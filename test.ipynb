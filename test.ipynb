{
 "cells": [
  {
   "cell_type": "code",
   "execution_count": 24,
   "metadata": {},
   "outputs": [],
   "source": [
    "import pandas as pd"
   ]
  },
  {
   "cell_type": "code",
   "execution_count": 25,
   "metadata": {},
   "outputs": [],
   "source": [
    "from utilities.BusinessAnalysis import BusinessAnalysis"
   ]
  },
  {
   "cell_type": "code",
   "execution_count": 26,
   "metadata": {},
   "outputs": [
    {
     "name": "stdout",
     "output_type": "stream",
     "text": [
      "Connected to the database.\n"
     ]
    },
    {
     "name": "stderr",
     "output_type": "stream",
     "text": [
      "h:\\hackathon\\growthgenie\\hack-code\\utilities\\AzureSqlLoader.py:35: UserWarning: pandas only supports SQLAlchemy connectable (engine/connection) or database string URI or sqlite3 DBAPI2 connection. Other DBAPI2 objects are not tested. Please consider using SQLAlchemy.\n",
      "  df = pd.read_sql(query, self.conn)\n"
     ]
    },
    {
     "name": "stdout",
     "output_type": "stream",
     "text": [
      "Table 'Accounts' loaded into DataFrame.\n"
     ]
    },
    {
     "name": "stderr",
     "output_type": "stream",
     "text": [
      "h:\\hackathon\\growthgenie\\hack-code\\utilities\\AzureSqlLoader.py:35: UserWarning: pandas only supports SQLAlchemy connectable (engine/connection) or database string URI or sqlite3 DBAPI2 connection. Other DBAPI2 objects are not tested. Please consider using SQLAlchemy.\n",
      "  df = pd.read_sql(query, self.conn)\n"
     ]
    },
    {
     "name": "stdout",
     "output_type": "stream",
     "text": [
      "Table 'Customers' loaded into DataFrame.\n"
     ]
    },
    {
     "name": "stderr",
     "output_type": "stream",
     "text": [
      "h:\\hackathon\\growthgenie\\hack-code\\utilities\\AzureSqlLoader.py:35: UserWarning: pandas only supports SQLAlchemy connectable (engine/connection) or database string URI or sqlite3 DBAPI2 connection. Other DBAPI2 objects are not tested. Please consider using SQLAlchemy.\n",
      "  df = pd.read_sql(query, self.conn)\n"
     ]
    },
    {
     "name": "stdout",
     "output_type": "stream",
     "text": [
      "Table 'FixedDeposits' loaded into DataFrame.\n"
     ]
    },
    {
     "name": "stderr",
     "output_type": "stream",
     "text": [
      "h:\\hackathon\\growthgenie\\hack-code\\utilities\\AzureSqlLoader.py:35: UserWarning: pandas only supports SQLAlchemy connectable (engine/connection) or database string URI or sqlite3 DBAPI2 connection. Other DBAPI2 objects are not tested. Please consider using SQLAlchemy.\n",
      "  df = pd.read_sql(query, self.conn)\n"
     ]
    },
    {
     "name": "stdout",
     "output_type": "stream",
     "text": [
      "Table 'InvestmentAccounts' loaded into DataFrame.\n"
     ]
    },
    {
     "name": "stderr",
     "output_type": "stream",
     "text": [
      "h:\\hackathon\\growthgenie\\hack-code\\utilities\\AzureSqlLoader.py:35: UserWarning: pandas only supports SQLAlchemy connectable (engine/connection) or database string URI or sqlite3 DBAPI2 connection. Other DBAPI2 objects are not tested. Please consider using SQLAlchemy.\n",
      "  df = pd.read_sql(query, self.conn)\n"
     ]
    },
    {
     "name": "stdout",
     "output_type": "stream",
     "text": [
      "Table 'Loans' loaded into DataFrame.\n"
     ]
    },
    {
     "name": "stderr",
     "output_type": "stream",
     "text": [
      "h:\\hackathon\\growthgenie\\hack-code\\utilities\\AzureSqlLoader.py:35: UserWarning: pandas only supports SQLAlchemy connectable (engine/connection) or database string URI or sqlite3 DBAPI2 connection. Other DBAPI2 objects are not tested. Please consider using SQLAlchemy.\n",
      "  df = pd.read_sql(query, self.conn)\n"
     ]
    },
    {
     "name": "stdout",
     "output_type": "stream",
     "text": [
      "Table 'MutualFunds' loaded into DataFrame.\n"
     ]
    },
    {
     "name": "stderr",
     "output_type": "stream",
     "text": [
      "h:\\hackathon\\growthgenie\\hack-code\\utilities\\AzureSqlLoader.py:35: UserWarning: pandas only supports SQLAlchemy connectable (engine/connection) or database string URI or sqlite3 DBAPI2 connection. Other DBAPI2 objects are not tested. Please consider using SQLAlchemy.\n",
      "  df = pd.read_sql(query, self.conn)\n"
     ]
    },
    {
     "name": "stdout",
     "output_type": "stream",
     "text": [
      "Table 'Stocks' loaded into DataFrame.\n"
     ]
    },
    {
     "name": "stderr",
     "output_type": "stream",
     "text": [
      "h:\\hackathon\\growthgenie\\hack-code\\utilities\\AzureSqlLoader.py:35: UserWarning: pandas only supports SQLAlchemy connectable (engine/connection) or database string URI or sqlite3 DBAPI2 connection. Other DBAPI2 objects are not tested. Please consider using SQLAlchemy.\n",
      "  df = pd.read_sql(query, self.conn)\n"
     ]
    },
    {
     "name": "stdout",
     "output_type": "stream",
     "text": [
      "Table 'Transactions' loaded into DataFrame.\n"
     ]
    }
   ],
   "source": [
    "business = BusinessAnalysis()"
   ]
  },
  {
   "cell_type": "code",
   "execution_count": 27,
   "metadata": {},
   "outputs": [
    {
     "data": {
      "text/html": [
       "<div>\n",
       "<style scoped>\n",
       "    .dataframe tbody tr th:only-of-type {\n",
       "        vertical-align: middle;\n",
       "    }\n",
       "\n",
       "    .dataframe tbody tr th {\n",
       "        vertical-align: top;\n",
       "    }\n",
       "\n",
       "    .dataframe thead th {\n",
       "        text-align: right;\n",
       "    }\n",
       "</style>\n",
       "<table border=\"1\" class=\"dataframe\">\n",
       "  <thead>\n",
       "    <tr style=\"text-align: right;\">\n",
       "      <th></th>\n",
       "      <th>INVESTMENTACCOUNTID</th>\n",
       "      <th>CUSTOMERID</th>\n",
       "      <th>ACCOUNTTYPE</th>\n",
       "      <th>INVESTMENTSTATUS</th>\n",
       "      <th>INVESTMENTSTARTDATE</th>\n",
       "      <th>INVESTMENTENDDATE</th>\n",
       "      <th>RETURNS</th>\n",
       "      <th>INVESTMENTPORTFOLIO</th>\n",
       "    </tr>\n",
       "  </thead>\n",
       "  <tbody>\n",
       "    <tr>\n",
       "      <th>0</th>\n",
       "      <td>AABZ77599366845694</td>\n",
       "      <td>1689</td>\n",
       "      <td>Fixed Deposits</td>\n",
       "      <td>Closed</td>\n",
       "      <td>2022-03-23</td>\n",
       "      <td>2023-05-15</td>\n",
       "      <td>19.72</td>\n",
       "      <td>62446310</td>\n",
       "    </tr>\n",
       "    <tr>\n",
       "      <th>1</th>\n",
       "      <td>AAGS03835808971544</td>\n",
       "      <td>1457</td>\n",
       "      <td>Mutual Funds</td>\n",
       "      <td>Closed</td>\n",
       "      <td>2019-10-19</td>\n",
       "      <td>2022-05-29</td>\n",
       "      <td>10.34</td>\n",
       "      <td>89219768</td>\n",
       "    </tr>\n",
       "    <tr>\n",
       "      <th>2</th>\n",
       "      <td>AALO95363141318555</td>\n",
       "      <td>2076</td>\n",
       "      <td>Fixed Deposits</td>\n",
       "      <td>Active</td>\n",
       "      <td>2020-01-26</td>\n",
       "      <td>2022-03-05</td>\n",
       "      <td>5.94</td>\n",
       "      <td>37314071</td>\n",
       "    </tr>\n",
       "    <tr>\n",
       "      <th>3</th>\n",
       "      <td>AATL56921559480456</td>\n",
       "      <td>2396</td>\n",
       "      <td>Mutual Funds</td>\n",
       "      <td>Closed</td>\n",
       "      <td>2022-03-01</td>\n",
       "      <td>2023-04-03</td>\n",
       "      <td>17.31</td>\n",
       "      <td>90941221</td>\n",
       "    </tr>\n",
       "    <tr>\n",
       "      <th>4</th>\n",
       "      <td>ABUT40633409519813</td>\n",
       "      <td>1662</td>\n",
       "      <td>Mutual Funds</td>\n",
       "      <td>Active</td>\n",
       "      <td>2019-04-21</td>\n",
       "      <td>2021-12-13</td>\n",
       "      <td>14.20</td>\n",
       "      <td>73924074</td>\n",
       "    </tr>\n",
       "  </tbody>\n",
       "</table>\n",
       "</div>"
      ],
      "text/plain": [
       "  INVESTMENTACCOUNTID  CUSTOMERID     ACCOUNTTYPE INVESTMENTSTATUS  \\\n",
       "0  AABZ77599366845694        1689  Fixed Deposits           Closed   \n",
       "1  AAGS03835808971544        1457    Mutual Funds           Closed   \n",
       "2  AALO95363141318555        2076  Fixed Deposits           Active   \n",
       "3  AATL56921559480456        2396    Mutual Funds           Closed   \n",
       "4  ABUT40633409519813        1662    Mutual Funds           Active   \n",
       "\n",
       "  INVESTMENTSTARTDATE INVESTMENTENDDATE  RETURNS INVESTMENTPORTFOLIO  \n",
       "0          2022-03-23        2023-05-15    19.72            62446310  \n",
       "1          2019-10-19        2022-05-29    10.34            89219768  \n",
       "2          2020-01-26        2022-03-05     5.94            37314071  \n",
       "3          2022-03-01        2023-04-03    17.31            90941221  \n",
       "4          2019-04-21        2021-12-13    14.20            73924074  "
      ]
     },
     "execution_count": 27,
     "metadata": {},
     "output_type": "execute_result"
    }
   ],
   "source": [
    "business.investment_data.head()"
   ]
  },
  {
   "cell_type": "code",
   "execution_count": 6,
   "metadata": {},
   "outputs": [
    {
     "data": {
      "text/html": [
       "<div>\n",
       "<style scoped>\n",
       "    .dataframe tbody tr th:only-of-type {\n",
       "        vertical-align: middle;\n",
       "    }\n",
       "\n",
       "    .dataframe tbody tr th {\n",
       "        vertical-align: top;\n",
       "    }\n",
       "\n",
       "    .dataframe thead th {\n",
       "        text-align: right;\n",
       "    }\n",
       "</style>\n",
       "<table border=\"1\" class=\"dataframe\">\n",
       "  <thead>\n",
       "    <tr style=\"text-align: right;\">\n",
       "      <th></th>\n",
       "      <th>LOANID</th>\n",
       "      <th>CUSTOMERID</th>\n",
       "      <th>LOANTYPE</th>\n",
       "      <th>LOANAMOUNT</th>\n",
       "      <th>INTERESTRATE</th>\n",
       "      <th>LOANSTATUS</th>\n",
       "      <th>EMI</th>\n",
       "      <th>LOANTERM</th>\n",
       "      <th>DISBURSEMENTDATE</th>\n",
       "      <th>REPAYMENTSCHEDULE</th>\n",
       "    </tr>\n",
       "  </thead>\n",
       "  <tbody>\n",
       "    <tr>\n",
       "      <th>0</th>\n",
       "      <td>ABRR23611803169635</td>\n",
       "      <td>1924</td>\n",
       "      <td>Personal Loan</td>\n",
       "      <td>76116306.0</td>\n",
       "      <td>7.70</td>\n",
       "      <td>Pending</td>\n",
       "      <td>49623.0</td>\n",
       "      <td>2</td>\n",
       "      <td>2023-03-19</td>\n",
       "      <td>4th of every Month</td>\n",
       "    </tr>\n",
       "    <tr>\n",
       "      <th>1</th>\n",
       "      <td>ABSM53310882673253</td>\n",
       "      <td>1701</td>\n",
       "      <td>Credit Card Loan</td>\n",
       "      <td>48630659.0</td>\n",
       "      <td>10.27</td>\n",
       "      <td>Rejected</td>\n",
       "      <td>33205.0</td>\n",
       "      <td>28</td>\n",
       "      <td>2020-10-13</td>\n",
       "      <td>2nd of every Month</td>\n",
       "    </tr>\n",
       "    <tr>\n",
       "      <th>2</th>\n",
       "      <td>ABUL16071587239323</td>\n",
       "      <td>2073</td>\n",
       "      <td>Student Loan</td>\n",
       "      <td>71222896.0</td>\n",
       "      <td>8.39</td>\n",
       "      <td>Approved</td>\n",
       "      <td>20441.0</td>\n",
       "      <td>18</td>\n",
       "      <td>2019-09-09</td>\n",
       "      <td>7th of every Month</td>\n",
       "    </tr>\n",
       "    <tr>\n",
       "      <th>3</th>\n",
       "      <td>ACGZ05897091164186</td>\n",
       "      <td>2287</td>\n",
       "      <td>Business Loan</td>\n",
       "      <td>52873550.0</td>\n",
       "      <td>8.64</td>\n",
       "      <td>Rejected</td>\n",
       "      <td>11801.0</td>\n",
       "      <td>7</td>\n",
       "      <td>2016-10-05</td>\n",
       "      <td>2nd of every Month</td>\n",
       "    </tr>\n",
       "    <tr>\n",
       "      <th>4</th>\n",
       "      <td>ADQJ92912643999636</td>\n",
       "      <td>2220</td>\n",
       "      <td>Personal Loan</td>\n",
       "      <td>50036568.0</td>\n",
       "      <td>12.55</td>\n",
       "      <td>Rejected</td>\n",
       "      <td>26013.0</td>\n",
       "      <td>13</td>\n",
       "      <td>2014-10-20</td>\n",
       "      <td>2nd of every Month</td>\n",
       "    </tr>\n",
       "  </tbody>\n",
       "</table>\n",
       "</div>"
      ],
      "text/plain": [
       "               LOANID  CUSTOMERID          LOANTYPE  LOANAMOUNT  INTERESTRATE  \\\n",
       "0  ABRR23611803169635        1924     Personal Loan  76116306.0          7.70   \n",
       "1  ABSM53310882673253        1701  Credit Card Loan  48630659.0         10.27   \n",
       "2  ABUL16071587239323        2073      Student Loan  71222896.0          8.39   \n",
       "3  ACGZ05897091164186        2287     Business Loan  52873550.0          8.64   \n",
       "4  ADQJ92912643999636        2220     Personal Loan  50036568.0         12.55   \n",
       "\n",
       "  LOANSTATUS      EMI  LOANTERM DISBURSEMENTDATE   REPAYMENTSCHEDULE  \n",
       "0    Pending  49623.0         2       2023-03-19  4th of every Month  \n",
       "1   Rejected  33205.0        28       2020-10-13  2nd of every Month  \n",
       "2   Approved  20441.0        18       2019-09-09  7th of every Month  \n",
       "3   Rejected  11801.0         7       2016-10-05  2nd of every Month  \n",
       "4   Rejected  26013.0        13       2014-10-20  2nd of every Month  "
      ]
     },
     "execution_count": 6,
     "metadata": {},
     "output_type": "execute_result"
    }
   ],
   "source": [
    "business.loans_data.head()"
   ]
  },
  {
   "cell_type": "code",
   "execution_count": 7,
   "metadata": {},
   "outputs": [],
   "source": [
    "def sliced_data(data, type):\n",
    "    sliced_data = data[data['ACCOUNTTYPE'] == type].reset_index(drop=True)\n",
    "    return sliced_data\n",
    "\n",
    "def merge_dataframe(df1, df2, on, *args):\n",
    "    data1 = pd.merge(df1, df2, how='left', on=on)\n",
    "    data1 = data1[list(args)]\n",
    "    return data1\n",
    "\n",
    "def fixed_deposits_manipulation(fixed_deposits1):\n",
    "    fixed_vol = fixed_deposits1.groupby('FIXEDDEPOSITID', as_index=False).agg({'INVESTMENTACCOUNTID':'count'})\n",
    "    fixed_vol = fixed_vol.sort_values(by='INVESTMENTACCOUNTID', ascending=False).reset_index(drop=True)\n",
    "    fixed_vol = fixed_vol.rename(columns={'INVESTMENTACCOUNTID': 'CLIENTCOUNT'})\n",
    "    fixed_vol1 = pd.merge(fixed_vol, fixed_deposits1, on='FIXEDDEPOSITID', how='left')\n",
    "    fixed_vol1 = fixed_vol1[['FIXEDDEPOSITID', 'CLIENTCOUNT', 'INTERESTRATE']]\n",
    "    fixed_vol1 = fixed_vol1.sort_values(by=['INTERESTRATE'], ascending=False).reset_index(drop=True)\n",
    "    fixed_vol1 = fixed_vol1.drop('CLIENTCOUNT', axis=1)\n",
    "    fixed_vol1 = fixed_vol1.rename(columns={'FIXEDDEPOSITID': 'Fixed Deposit', 'INTERESTRATE': 'Rate'})\n",
    "    first_10_entries = fixed_vol1.take([i for i in range(10)])\n",
    "    return first_10_entries\n",
    "\n",
    "def mutual_fund_manipulations(mutual_funds1):\n",
    "    mutual_funds1['FUNDNAME.1'] = mutual_funds1['FUNDNAME'].values + ' ' + mutual_funds1['FUNDTYPE'].values\n",
    "    mutual_funds1 = mutual_funds1.drop('FUNDNAME', axis = 1)\n",
    "    mutual_funds1 = mutual_funds1.rename(columns = {'FUNDNAME.1' : 'FUNDNAME'})\n",
    "    fixed_vol = mutual_funds1.groupby(['MUTUALFUNDID', 'FUNDNAME'], as_index=False).agg({'INVESTMENTACCOUNTID':'count'})\n",
    "    fixed_vol = fixed_vol.sort_values(by='INVESTMENTACCOUNTID', ascending=False).reset_index(drop=True)\n",
    "    fixed_vol = fixed_vol.rename(columns={'INVESTMENTACCOUNTID': 'CLIENTCOUNT'})\n",
    "    fixed_vol1 = pd.merge(fixed_vol, mutual_funds1, on=['MUTUALFUNDID', 'FUNDNAME'], how='left')\n",
    "    fixed_vol1 = fixed_vol1[['MUTUALFUNDID', 'FUNDNAME', 'CLIENTCOUNT', 'RETURNS']]\n",
    "    fixed_vol1 = fixed_vol1.sort_values(by=['RETURNS'], ascending=False).reset_index(drop=True)\n",
    "    fixed_vol1 = fixed_vol1.drop(['CLIENTCOUNT', 'MUTUALFUNDID'], axis=1)\n",
    "    fixed_vol1 = fixed_vol1.rename(columns={'FUNDNAME': 'Fund Name', 'RETURNS': 'CAGR'})\n",
    "    first_10_entries = fixed_vol1.take([i for i in range(10)])\n",
    "    return first_10_entries\n",
    "\n",
    "def stock_manipulations(stocks1):\n",
    "    fixed_vol = stocks1.groupby(['STOCKID', 'STOCKNAME'], as_index=False).agg({'INVESTMENTACCOUNTID':'count'})\n",
    "    fixed_vol = fixed_vol.sort_values(by='INVESTMENTACCOUNTID', ascending=False).reset_index(drop=True)\n",
    "    fixed_vol = fixed_vol.rename(columns={'INVESTMENTACCOUNTID': 'CLIENTCOUNT'})\n",
    "    fixed_vol1 = pd.merge(fixed_vol, stocks1, on=['STOCKID', 'STOCKNAME'], how='left')\n",
    "    fixed_vol1 = fixed_vol1[['STOCKID', 'STOCKNAME', 'CLIENTCOUNT', 'RETURNS']]\n",
    "    fixed_vol1 = fixed_vol1.sort_values(by=['RETURNS'], ascending=False).reset_index(drop=True)\n",
    "    fixed_vol1 = fixed_vol1.drop(['CLIENTCOUNT', 'STOCKID'], axis=1)\n",
    "    fixed_vol1 = fixed_vol1.rename(columns={'STOCKNAME': 'Stock Name', 'RETURNS': 'CAGR'})\n",
    "    first_10_entries = fixed_vol1.take([i for i in range(10)])\n",
    "    return first_10_entries\n",
    "\n",
    "# solution 2 top 3 performining investment to be shown for both user and bank in the form of 3 cards,\n",
    "# 3 rows segmenting each type\n",
    "\n",
    "def manipulations_sol2(fixed_deposits_sol2, mutual_funds_sol2, stocks_sol2):\n",
    "    fixed_deposits_frame = fixed_deposits_sol2.dropna()\n",
    "    fixed_deposits_frame['FIXEDDEPOSITID'] = fixed_deposits_frame['FIXEDDEPOSITID'].astype(int)\n",
    "    fixed_deposits_frame = fixed_deposits_frame.drop('INVESTMENTACCOUNTID', axis = 1)\n",
    "    fixed_deposits_frame = fixed_deposits_frame.sort_values(by = 'RETURNS', ascending = False).reset_index(drop = True)\n",
    "    fixed_deposits_frame = fixed_deposits_frame.rename(columns = {'FIXEDDEPOSITID' : 'Fixed Deposit', 'RETURNS' : 'CAGR'})\n",
    "    fixed_top = fixed_deposits_frame.take([i for i in range(3)])\n",
    "    mutual = mutual_funds_sol2.dropna()\n",
    "    mutual['FUNDNAME.1'] = mutual['FUNDNAME'].values + ' ' + mutual['FUNDTYPE'].values\n",
    "    mutual = mutual.drop(['FUNDNAME', 'FUNDTYPE'], axis = 1)\n",
    "    mutual = mutual.rename(columns = {'FUNDNAME.1' : 'FUNDNAME'})\n",
    "    mutual = mutual.drop(['INVESTMENTACCOUNTID', 'MUTUALFUNDID'], axis = 1)\n",
    "    mutual = mutual.sort_values(by = 'RETURNS', ascending = False).reset_index(drop = True)\n",
    "    mutual = mutual.rename(columns = {'FUNDNAME' : 'Fund Name', 'RETURNS' : 'CAGR'})\n",
    "    mutual_top = mutual.take([i for i in range(3)])\n",
    "    mutual_top = mutual_top[['Fund Name', 'CAGR']]\n",
    "    stock = stocks_sol2.dropna()\n",
    "    stock = stock.drop(['INVESTMENTACCOUNTID', 'STOCKID'], axis = 1)\n",
    "    stock = stock.sort_values(by = 'RETURNS', ascending = False).reset_index(drop = True)\n",
    "    stock = stock.rename(columns = {'STOCKNAME' : 'Stock Name', 'RETURNS' : 'CAGR'})\n",
    "    stock_top = stock.take([i for i in range(3)])\n",
    "    return fixed_top, mutual_top, stock_top\n",
    "\n",
    "def manipulations_sol3(fixed_sol3, mutual_sol3, stock_sol3, loans, customers):\n",
    "    data = pd.merge(fixed_sol3, mutual_sol3, how = 'outer', on = 'INVESTMENTACCOUNTID')\n",
    "    data1 = pd.merge(data, stock_sol3, how = 'outer', on = 'INVESTMENTACCOUNTID')\n",
    "    loan3 = loans[loans['LOANSTATUS'] == 'Approved'].reset_index(drop = True)\n",
    "    loan = loan3.groupby('CUSTOMERID', as_index = False).agg({'LOANAMOUNT' : sum})\n",
    "    product = stock_sol3[['CUSTOMERID', 'STOCKNAME']]\n",
    "    product1 = mutual_sol3[['CUSTOMERID', 'FUNDNAME']]\n",
    "    product2 = fixed_sol3[['CUSTOMERID', 'FIXEDDEPOSITID']]\n",
    "    product3 = loan3[['CUSTOMERID', 'LOANTYPE']]\n",
    "    data1[['PRINCIPALAMOUNT', 'INVESTMENTAMOUNT', 'PURCHASEPRICE', 'QUANTITY']] = data1[[\n",
    "    'PRINCIPALAMOUNT', 'INVESTMENTAMOUNT', 'PURCHASEPRICE', 'QUANTITY']].fillna(0)\n",
    "    data1['STOCKINVESTMENT'] = data1['PURCHASEPRICE'] * data1['QUANTITY']\n",
    "    data1 = data1[['CUSTOMERID', 'INVESTMENTACCOUNTID', 'PRINCIPALAMOUNT', 'INVESTMENTAMOUNT', 'STOCKINVESTMENT']]\n",
    "    new_data = data1.groupby(['CUSTOMERID', 'INVESTMENTACCOUNTID'], as_index = False).agg({'PRINCIPALAMOUNT' : sum, \n",
    "                                                                                           'INVESTMENTAMOUNT' : sum,\n",
    "                                                                                           'STOCKINVESTMENT' : sum})\n",
    "    new_data = new_data.reset_index(drop = True)\n",
    "    new_data['INVESTMENTS'] = new_data[['PRINCIPALAMOUNT' , 'INVESTMENTAMOUNT' , 'STOCKINVESTMENT']].sum(axis = 1)\n",
    "    new_data['CUSTOMERID'] = new_data['CUSTOMERID'].astype(int)\n",
    "    new_merge = pd.merge(loan, new_data, how = 'outer', on = 'CUSTOMERID')\n",
    "    new_data1 = new_merge.drop(['INVESTMENTACCOUNTID', 'PRINCIPALAMOUNT', 'INVESTMENTAMOUNT',\n",
    "                          'STOCKINVESTMENT'], axis = 1)\n",
    "    new_data1[['LOANAMOUNT', 'INVESTMENTS']] = new_data1[['LOANAMOUNT', 'INVESTMENTS']].fillna(0)\n",
    "    new_data1['NETWORTH'] = new_data1['INVESTMENTS'] - new_data1['LOANAMOUNT']\n",
    "    new_data11 = new_data1[['CUSTOMERID', 'NETWORTH']]\n",
    "    new_data11 = new_data11.sort_values(by = 'NETWORTH', ascending = False)\n",
    "    \n",
    "    productstock = product.dropna(subset=['STOCKNAME'])\n",
    "    grouped_product = productstock.groupby('CUSTOMERID')['STOCKNAME'].agg(lambda x: ', '.join(x)).reset_index()\n",
    "\n",
    "    productfund = product1.dropna(subset=['FUNDNAME'])\n",
    "    grouped_product1 = productfund.groupby('CUSTOMERID')['FUNDNAME'].agg(lambda x: ', '.join(x)).reset_index()\n",
    "\n",
    "    productfixed = product2.dropna(subset=['FIXEDDEPOSITID'])\n",
    "    productfixed['FIXEDDEPOSITID'] = productfixed['FIXEDDEPOSITID'].astype(int)\n",
    "    productfixed['FIXEDDEPOSITID'] = productfixed['FIXEDDEPOSITID'].astype(str)\n",
    "    grouped_product2 = productfixed.groupby('CUSTOMERID')['FIXEDDEPOSITID'].agg(lambda x: ', '.join(x)).reset_index()\n",
    "    grouped_product2 = grouped_product2.rename(columns = {'FIXEDDEPOSITID' : 'FIXEDDEPOSIT'})\n",
    "\n",
    "    productloan = product3.dropna(subset=['LOANTYPE'])\n",
    "    grouped_product3 = productloan.groupby('CUSTOMERID')['LOANTYPE'].agg(lambda x: ', '.join(x)).reset_index()\n",
    "\n",
    "    merge_products = pd.merge(customers, grouped_product, on = 'CUSTOMERID', how = 'left')\n",
    "    merge_products1 = pd.merge(merge_products, grouped_product1, on = 'CUSTOMERID', how = 'left')\n",
    "    merge_products2 = pd.merge(merge_products1, grouped_product2, on = 'CUSTOMERID', how = 'left')\n",
    "    merge_products3 = pd.merge(merge_products2, grouped_product3, on = 'CUSTOMERID', how = 'left')\n",
    "    #merge_products1['FIXEDDEPOSITID'] = merge_products1['FIXEDDEPOSITID'].astype(int)\n",
    "    final_cust = merge_products3[['CUSTOMERID', 'FIRSTNAME', 'LASTNAME', 'ADDRESS', 'EMAIL', 'PHONE', 'STOCKNAME', 'FUNDNAME',\n",
    "                                  'FIXEDDEPOSIT', 'LOANTYPE']]\n",
    "\n",
    "    new_data01 = new_data11.groupby('CUSTOMERID', as_index = False).agg({'NETWORTH' : sum})\n",
    "\n",
    "    final_frame = pd.merge(final_cust, new_data01, how = 'left', on = 'CUSTOMERID')\n",
    "    final_frame = final_frame.dropna(subset = ['NETWORTH'])\n",
    "    final_frame = final_frame.sort_values(by = 'NETWORTH', ascending = False).reset_index(drop = True)\n",
    "    return final_frame\n",
    "\n",
    "def returns(investment_accounts, customers):\n",
    "    data = investment_accounts.groupby('CUSTOMERID', as_index = False).agg({'RETURNS' : sum})\n",
    "    data = data.sort_values(by = 'RETURNS', ascending = False).reset_index(drop = True)\n",
    "    data1 = data.copy()\n",
    "    data1['6 Month Returns'] = ((1 + data['RETURNS'])**(6/12)) - 1\n",
    "    data1['1 Month Return'] = ((1 + data['RETURNS'])**(1/12)) - 1\n",
    "    cust_data = pd.merge(data1, customers, on = 'CUSTOMERID', how = 'left')\n",
    "    cust_top = cust_data.take([i for i in range(5)])\n",
    "    cust_top['Name'] = cust_top['FIRSTNAME'] + ' ' + cust_top['LASTNAME']\n",
    "    cust_top = cust_top.rename(columns = {'RETURNS' : 'CAGR'})\n",
    "    cust_top = cust_top[['Name', 'EMAIL', 'PHONE', '1 Month Return', '6 Month Returns', 'CAGR']]\n",
    "    return cust_top\n",
    "\n"
   ]
  },
  {
   "cell_type": "code",
   "execution_count": 38,
   "metadata": {},
   "outputs": [
    {
     "name": "stdout",
     "output_type": "stream",
     "text": [
      "Connected to the database.\n"
     ]
    },
    {
     "name": "stderr",
     "output_type": "stream",
     "text": [
      "h:\\hackathon\\growthgenie\\hack-code\\utilities\\AzureSqlLoader.py:35: UserWarning: pandas only supports SQLAlchemy connectable (engine/connection) or database string URI or sqlite3 DBAPI2 connection. Other DBAPI2 objects are not tested. Please consider using SQLAlchemy.\n",
      "  df = pd.read_sql(query, self.conn)\n"
     ]
    },
    {
     "name": "stdout",
     "output_type": "stream",
     "text": [
      "Table 'Accounts' loaded into DataFrame.\n"
     ]
    },
    {
     "name": "stderr",
     "output_type": "stream",
     "text": [
      "h:\\hackathon\\growthgenie\\hack-code\\utilities\\AzureSqlLoader.py:35: UserWarning: pandas only supports SQLAlchemy connectable (engine/connection) or database string URI or sqlite3 DBAPI2 connection. Other DBAPI2 objects are not tested. Please consider using SQLAlchemy.\n",
      "  df = pd.read_sql(query, self.conn)\n"
     ]
    },
    {
     "name": "stdout",
     "output_type": "stream",
     "text": [
      "Table 'Customers' loaded into DataFrame.\n"
     ]
    },
    {
     "name": "stderr",
     "output_type": "stream",
     "text": [
      "h:\\hackathon\\growthgenie\\hack-code\\utilities\\AzureSqlLoader.py:35: UserWarning: pandas only supports SQLAlchemy connectable (engine/connection) or database string URI or sqlite3 DBAPI2 connection. Other DBAPI2 objects are not tested. Please consider using SQLAlchemy.\n",
      "  df = pd.read_sql(query, self.conn)\n"
     ]
    },
    {
     "name": "stdout",
     "output_type": "stream",
     "text": [
      "Table 'FixedDeposits' loaded into DataFrame.\n"
     ]
    },
    {
     "name": "stderr",
     "output_type": "stream",
     "text": [
      "h:\\hackathon\\growthgenie\\hack-code\\utilities\\AzureSqlLoader.py:35: UserWarning: pandas only supports SQLAlchemy connectable (engine/connection) or database string URI or sqlite3 DBAPI2 connection. Other DBAPI2 objects are not tested. Please consider using SQLAlchemy.\n",
      "  df = pd.read_sql(query, self.conn)\n"
     ]
    },
    {
     "name": "stdout",
     "output_type": "stream",
     "text": [
      "Table 'InvestmentAccounts' loaded into DataFrame.\n"
     ]
    },
    {
     "name": "stderr",
     "output_type": "stream",
     "text": [
      "h:\\hackathon\\growthgenie\\hack-code\\utilities\\AzureSqlLoader.py:35: UserWarning: pandas only supports SQLAlchemy connectable (engine/connection) or database string URI or sqlite3 DBAPI2 connection. Other DBAPI2 objects are not tested. Please consider using SQLAlchemy.\n",
      "  df = pd.read_sql(query, self.conn)\n"
     ]
    },
    {
     "name": "stdout",
     "output_type": "stream",
     "text": [
      "Table 'Loans' loaded into DataFrame.\n"
     ]
    },
    {
     "name": "stderr",
     "output_type": "stream",
     "text": [
      "h:\\hackathon\\growthgenie\\hack-code\\utilities\\AzureSqlLoader.py:35: UserWarning: pandas only supports SQLAlchemy connectable (engine/connection) or database string URI or sqlite3 DBAPI2 connection. Other DBAPI2 objects are not tested. Please consider using SQLAlchemy.\n",
      "  df = pd.read_sql(query, self.conn)\n"
     ]
    },
    {
     "name": "stdout",
     "output_type": "stream",
     "text": [
      "Table 'MutualFunds' loaded into DataFrame.\n"
     ]
    },
    {
     "name": "stderr",
     "output_type": "stream",
     "text": [
      "h:\\hackathon\\growthgenie\\hack-code\\utilities\\AzureSqlLoader.py:35: UserWarning: pandas only supports SQLAlchemy connectable (engine/connection) or database string URI or sqlite3 DBAPI2 connection. Other DBAPI2 objects are not tested. Please consider using SQLAlchemy.\n",
      "  df = pd.read_sql(query, self.conn)\n"
     ]
    },
    {
     "name": "stdout",
     "output_type": "stream",
     "text": [
      "Table 'Stocks' loaded into DataFrame.\n"
     ]
    },
    {
     "name": "stderr",
     "output_type": "stream",
     "text": [
      "h:\\hackathon\\growthgenie\\hack-code\\utilities\\AzureSqlLoader.py:35: UserWarning: pandas only supports SQLAlchemy connectable (engine/connection) or database string URI or sqlite3 DBAPI2 connection. Other DBAPI2 objects are not tested. Please consider using SQLAlchemy.\n",
      "  df = pd.read_sql(query, self.conn)\n"
     ]
    },
    {
     "name": "stdout",
     "output_type": "stream",
     "text": [
      "Table 'Transactions' loaded into DataFrame.\n"
     ]
    },
    {
     "name": "stderr",
     "output_type": "stream",
     "text": [
      "C:\\Users\\ADMIN\\AppData\\Local\\Temp\\ipykernel_17332\\3674047145.py:54: SettingWithCopyWarning: \n",
      "A value is trying to be set on a copy of a slice from a DataFrame.\n",
      "Try using .loc[row_indexer,col_indexer] = value instead\n",
      "\n",
      "See the caveats in the documentation: https://pandas.pydata.org/pandas-docs/stable/user_guide/indexing.html#returning-a-view-versus-a-copy\n",
      "  fixed_deposits_frame['FIXEDDEPOSITID'] = fixed_deposits_frame['FIXEDDEPOSITID'].astype(int)\n",
      "C:\\Users\\ADMIN\\AppData\\Local\\Temp\\ipykernel_17332\\3674047145.py:60: SettingWithCopyWarning: \n",
      "A value is trying to be set on a copy of a slice from a DataFrame.\n",
      "Try using .loc[row_indexer,col_indexer] = value instead\n",
      "\n",
      "See the caveats in the documentation: https://pandas.pydata.org/pandas-docs/stable/user_guide/indexing.html#returning-a-view-versus-a-copy\n",
      "  mutual['FUNDNAME.1'] = mutual['FUNDNAME'].values + ' ' + mutual['FUNDTYPE'].values\n",
      "C:\\Users\\ADMIN\\AppData\\Local\\Temp\\ipykernel_17332\\3674047145.py:109: SettingWithCopyWarning: \n",
      "A value is trying to be set on a copy of a slice from a DataFrame.\n",
      "Try using .loc[row_indexer,col_indexer] = value instead\n",
      "\n",
      "See the caveats in the documentation: https://pandas.pydata.org/pandas-docs/stable/user_guide/indexing.html#returning-a-view-versus-a-copy\n",
      "  productfixed['FIXEDDEPOSITID'] = productfixed['FIXEDDEPOSITID'].astype(int)\n",
      "C:\\Users\\ADMIN\\AppData\\Local\\Temp\\ipykernel_17332\\3674047145.py:110: SettingWithCopyWarning: \n",
      "A value is trying to be set on a copy of a slice from a DataFrame.\n",
      "Try using .loc[row_indexer,col_indexer] = value instead\n",
      "\n",
      "See the caveats in the documentation: https://pandas.pydata.org/pandas-docs/stable/user_guide/indexing.html#returning-a-view-versus-a-copy\n",
      "  productfixed['FIXEDDEPOSITID'] = productfixed['FIXEDDEPOSITID'].astype(str)\n"
     ]
    },
    {
     "name": "stdout",
     "output_type": "stream",
     "text": [
      "Solution 1 for both user and bank to be present in 3 columns in the form of sliders:\n",
      "   Fixed Deposit  Rate                                         Fund Name  \\\n",
      "0           2027  8.99                      DSP Mutual Fund Money Market   \n",
      "1           1778  8.99                DSP Mutual Fund Capital Protection   \n",
      "2           2416  8.99                        SBI Mutual Fund Tax-Saving   \n",
      "3           3229  8.99                           Tata Mutual Fund Income   \n",
      "4           1504  8.99                           Axis Mutual Fund Equity   \n",
      "5           1082  8.99    ICICI Prudential Mutual Fund Aggressive Growth   \n",
      "6           1772  8.99                 SBI Mutual Fund Aggressive Growth   \n",
      "7           2150  8.99  Aditya Birla Sun Life Mutual Fund Fixed Maturity   \n",
      "8           3168  8.99                  PPFAS Mutual Fund Fixed Maturity   \n",
      "9           1834  8.99                       Tata Mutual Fund Tax-Saving   \n",
      "\n",
      "    CAGR                        Stock Name   CAGR  \n",
      "0  19.99       Mahindra & Mahindra Limited  19.99  \n",
      "1  19.88         Grasim Industries Limited  19.99  \n",
      "2  19.88       Divi's Laboratories Limited  19.99  \n",
      "3  19.88       Kotak Mahindra Bank Limited  19.96  \n",
      "4  19.88             Eicher Motors Limited  19.96  \n",
      "5  19.88         Adani Enterprises Limited  19.96  \n",
      "6  19.88             Tech Mahindra Limited  19.95  \n",
      "7  19.80                     Cipla Limited  19.95  \n",
      "8  19.80       Divi's Laboratories Limited  19.90  \n",
      "9  19.80  Dr. Reddy's Laboratories Limited  19.90  \n",
      "Solution 2 top 3 performining investment to be shown for both user and bank in the form of 3 cards, 3 rows segmenting each type:\n",
      "   Fixed Deposit   CAGR                                       Fund Name  \\\n",
      "0           2948  19.94                    DSP Mutual Fund Money Market   \n",
      "1           3842  19.94               SBI Mutual Fund Aggressive Growth   \n",
      "2           2661  19.94  ICICI Prudential Mutual Fund Aggressive Growth   \n",
      "\n",
      "    CAGR                   Stock Name   CAGR  \n",
      "0  19.99  Mahindra & Mahindra Limited  19.99  \n",
      "1  19.88    Grasim Industries Limited  19.99  \n",
      "2  19.88  Divi's Laboratories Limited  19.99  \n",
      "Solution 3 (view only for banks) top 10 customers net woth in pie chart and products in 3 seaborn charts,\n",
      "          download button to download and view the entire dataframe\n",
      "     CUSTOMERID FIRSTNAME  LASTNAME  \\\n",
      "0          2407   Heather     Lopez   \n",
      "1          1221     Keith    Fisher   \n",
      "2          2354     Wendy    Moreno   \n",
      "3          2322      Karl  Atkinson   \n",
      "4          1450     James     Noble   \n",
      "..          ...       ...       ...   \n",
      "828        1802     David    Werner   \n",
      "829        1187    Nathan     Woods   \n",
      "830        2100    Angela    Powell   \n",
      "831        1322     Frank     Poole   \n",
      "832        2131     David   Santana   \n",
      "\n",
      "                                               ADDRESS  \\\n",
      "0         8882 Davis Via Apt. 623 Damonhaven, MH 78135   \n",
      "1           618 Candice Brooks New Jasonview, SD 29625   \n",
      "2             160 Hurley Fort Melissaborough, IA 32546   \n",
      "3    6902 Samantha Underpass Suite 536 New Christop...   \n",
      "4             24579 Andrew Shoal Nicoleville, SC 38374   \n",
      "..                                                 ...   \n",
      "828      594 Amy Branch Apt. 226 Jessicaland, LA 34887   \n",
      "829  37607 Michael Plain Apt. 738 South James, IA 7...   \n",
      "830       731 Atkinson Squares North Gregory, DC 35197   \n",
      "831            5519 Rivera Ways Fergusonstad, ID 95011   \n",
      "832          5809 Cortez Shores Richardburgh, OK 99923   \n",
      "\n",
      "                           EMAIL                  PHONE  \\\n",
      "0        dawnkennedy@hotmail.com  001-872-373-3816x3989   \n",
      "1         martinezsara@yahoo.com       001-656-501-2776   \n",
      "2    hodgeschristina@hotmail.com      550.544.6538x7675   \n",
      "3        brewertammy@hotmail.com       001-768-766-3842   \n",
      "4       nancyrodriguez@yahoo.com       780.918.9630x670   \n",
      "..                           ...                    ...   \n",
      "828         wolfejulie@gmail.com           740-456-5849   \n",
      "829          sabrina13@yahoo.com      894-355-6705x4151   \n",
      "830         hmaldonado@gmail.com     685-854-1432x41081   \n",
      "831      johncarpenter@yahoo.com       690.705.4743x873   \n",
      "832     davidserrano@hotmail.com          (932)815-2424   \n",
      "\n",
      "                                             STOCKNAME  \\\n",
      "0    Tata Motors Limited, Tech Mahindra Limited, Ma...   \n",
      "1    Power Grid Corporation of India Limited, Power...   \n",
      "2    Maruti Suzuki India Limited, Larsen & Toubro L...   \n",
      "3    Cipla Limited, Mahindra & Mahindra Limited, Ad...   \n",
      "4    Tech Mahindra Limited, Adani Ports and Special...   \n",
      "..                                                 ...   \n",
      "828  Bajaj Auto Limited, ICICI Bank Limited, SBI Li...   \n",
      "829  Shree Cement Limited, Housing Development Fina...   \n",
      "830  Tech Mahindra Limited, UltraTech Cement Limite...   \n",
      "831  Bajaj Finserv Limited, Sun Pharmaceutical Indu...   \n",
      "832  Reliance Industries Limited, Infosys Limited, ...   \n",
      "\n",
      "                                          FUNDNAME      FIXEDDEPOSIT  \\\n",
      "0                                              NaN               NaN   \n",
      "1                                              NaN              1004   \n",
      "2                                              NaN               NaN   \n",
      "3                                              NaN  1818, 2562, 3557   \n",
      "4                                              NaN               NaN   \n",
      "..                                             ...               ...   \n",
      "828                                            NaN               NaN   \n",
      "829  ICICI Prudential Mutual Fund, DSP Mutual Fund               NaN   \n",
      "830                                            NaN               NaN   \n",
      "831                                            NaN               NaN   \n",
      "832                                            NaN               NaN   \n",
      "\n",
      "                                       LOANTYPE     NETWORTH  \n",
      "0                                           NaN     374440.0  \n",
      "1                                           NaN     315908.0  \n",
      "2                                           NaN     315612.0  \n",
      "3                                           NaN     243761.0  \n",
      "4                                           NaN     233708.0  \n",
      "..                                          ...          ...  \n",
      "828                 Auto Loan, Credit Card Loan -196932574.0  \n",
      "829                 Business Loan, Student Loan -217852520.0  \n",
      "830                     Student Loan, Home Loan -225750859.0  \n",
      "831  Personal Loan, Credit Card Loan, Home Loan -379654619.0  \n",
      "832                    Business Loan, Home Loan -401380922.0  \n",
      "\n",
      "[833 rows x 11 columns]\n",
      "Solution 4 (view only for bank, convert this dataframe to pandas stylers and just write it on streamlit using\n",
      "    st.write(cust_returns))\n",
      "              Name                    EMAIL                   PHONE  \\\n",
      "0  Richard Hoffman     samantha13@gmail.com  001-336-504-3789x86189   \n",
      "1     Paige Romero    lawrencedan@gmail.com        321-366-1414x463   \n",
      "2   Holly Thompson  aliciasmith@hotmail.com            805-388-5977   \n",
      "3   Nicolas Mendez  mcgrathhannah@yahoo.com        001-774-562-9850   \n",
      "4    Aaron Jenkins       rgregory@yahoo.com      (563)968-6520x3595   \n",
      "\n",
      "   1 Month Return  6 Month Returns   CAGR  \n",
      "0        0.428707         7.504705  71.33  \n",
      "1        0.426917         7.440972  70.25  \n",
      "2        0.425693         7.397619  69.52  \n",
      "3        0.422331         7.279493  67.55  \n",
      "4        0.421289         7.243179  66.95  \n",
      "Solution 5 (view only for customer, link customer id with login  and show gains and tax liability as one/two\n",
      "          cards on top of the dashboard)\n",
      "            Tax Liability         Gains\n",
      "CUSTOMERID                             \n",
      "1001         2.631833e+06  1.254171e+07\n",
      "1002         1.081384e+06  1.081384e+07\n",
      "1003         1.988971e+06  7.995884e+06\n",
      "1004         4.763716e+05  1.945487e+06\n",
      "1005         6.026624e+06  2.481423e+07\n",
      "...                   ...           ...\n",
      "2496         1.911465e+06  7.685859e+06\n",
      "2497         4.468733e+05  1.827493e+06\n",
      "2498         1.346685e+06  7.800232e+06\n",
      "2499         1.050347e+06  1.050347e+07\n",
      "2500         8.947985e+05  7.635502e+06\n",
      "\n",
      "[959 rows x 2 columns]\n"
     ]
    }
   ],
   "source": [
    "def tax_liability(investment_accounts):\n",
    "    #call dataframe\n",
    "    df = investment_accounts.copy()\n",
    "    df = df.rename(columns = {'RETURNS' : 'CAGR'})\n",
    "    # Add additional columns for holding period, gains, and tax liability\n",
    "    df['HoldingPeriod'] = (pd.to_datetime(df['INVESTMENTENDDATE']) - pd.to_datetime(df['INVESTMENTSTARTDATE'])).dt.days / 365\n",
    "    df['Gains'] = df['INVESTMENTPORTFOLIO'] * (df['CAGR'] / 100)\n",
    "\n",
    "    # Calculate tax liability based on investment type and holding period\n",
    "    df['TaxLiability'] = 0  # Initialize tax liability column\n",
    "\n",
    "    # Calculate tax liability for Mutual Funds\n",
    "    mutual_funds_mask = df['ACCOUNTTYPE'] == 'Mutual Funds'\n",
    "    df.loc[mutual_funds_mask, 'TaxLiability'] = (\n",
    "        df.loc[mutual_funds_mask, 'Gains'] * 0.15  # Tax rate for holding period <= 1 year\n",
    "        + (df.loc[mutual_funds_mask, 'Gains'] - 100000) * 0.10  # Tax rate for holding period > 1 year\n",
    "    )\n",
    "\n",
    "    # Calculate tax liability for Stocks\n",
    "    stocks_mask = df['ACCOUNTTYPE'] == 'Stocks'\n",
    "    df.loc[stocks_mask, 'TaxLiability'] = (\n",
    "        df.loc[stocks_mask, 'Gains'] * 0.15  # Tax rate for holding period <= 1 year\n",
    "        + (df.loc[stocks_mask, 'Gains'] - 100000) * 0.10  # Tax rate for holding period > 1 year\n",
    "    )\n",
    "\n",
    "    # Calculate tax liability for Fixed Deposits\n",
    "    fd_mask = df['ACCOUNTTYPE'] == 'Fixed Deposits'\n",
    "    df.loc[fd_mask, 'TaxLiability'] = df.loc[fd_mask, 'Gains'] * 0.10  # Tax rate for fixed deposits\n",
    "\n",
    "    # Sum up tax liabilities for each customer\n",
    "    total_tax_liabilities = df.groupby('CUSTOMERID').agg({'TaxLiability' : sum, 'Gains' : sum})\n",
    "\n",
    "    # Display the resulting DataFrame with tax liabilities\n",
    "    total_tax_liabilities = total_tax_liabilities.rename(columns = {'TaxLiability' : 'Tax Liability'})\n",
    "    return total_tax_liabilities\n",
    "\n",
    "    \n",
    "def main():\n",
    "    business = BusinessAnalysis()\n",
    "    accounts = business.account_data\n",
    "    customers = business.customer_data\n",
    "    fixed_deposits = business.fd_data\n",
    "    mutual_funds = business.mf_data\n",
    "    stocks = business.stocks_data\n",
    "    investment_accounts = business.investment_data\n",
    "    loans = business.loans_data\n",
    "    fixed_investment = sliced_data(investment_accounts, 'Fixed Deposits')\n",
    "    fund_investment = sliced_data(investment_accounts, 'Mutual Funds')\n",
    "    stock_investment = sliced_data(investment_accounts, 'Stocks')\n",
    "    fixed_deposits1 = merge_dataframe(fixed_deposits, fixed_investment, 'INVESTMENTACCOUNTID',\n",
    "                                      *['FIXEDDEPOSITID', 'INVESTMENTACCOUNTID', 'INTERESTRATE'])\n",
    "    mutual_funds1 = merge_dataframe(mutual_funds, fund_investment, 'INVESTMENTACCOUNTID',\n",
    "                                    *['MUTUALFUNDID', 'FUNDNAME', 'FUNDTYPE', 'INVESTMENTACCOUNTID', 'RETURNS'])\n",
    "    stocks1 = merge_dataframe(stocks, stock_investment, 'INVESTMENTACCOUNTID',\n",
    "                              *['STOCKID', 'STOCKNAME', 'INVESTMENTACCOUNTID', 'RETURNS'])\n",
    "    final_dataframe = fixed_deposits_manipulation(fixed_deposits1)\n",
    "    final_dataframe1 = mutual_fund_manipulations(mutual_funds1)\n",
    "    final_dataframe2 = stock_manipulations(stocks1)\n",
    "    fixed_deposits_sol2 = merge_dataframe(fixed_investment, fixed_deposits, 'INVESTMENTACCOUNTID',\n",
    "                                      *['FIXEDDEPOSITID', 'INVESTMENTACCOUNTID', 'RETURNS'])\n",
    "    mutual_funds_sol2 = merge_dataframe(fund_investment, mutual_funds, 'INVESTMENTACCOUNTID',\n",
    "                                    *['MUTUALFUNDID', 'FUNDNAME', 'FUNDTYPE', 'INVESTMENTACCOUNTID', 'RETURNS'])\n",
    "    stocks_sol2 = merge_dataframe(stock_investment, stocks, 'INVESTMENTACCOUNTID',\n",
    "                              *['STOCKID', 'STOCKNAME', 'INVESTMENTACCOUNTID', 'RETURNS'])\n",
    "    fixed_top, mutual_top, stock_top = manipulations_sol2(fixed_deposits_sol2, mutual_funds_sol2, stocks_sol2)\n",
    "    fixed_sol3 = merge_dataframe(fixed_investment, fixed_deposits, 'INVESTMENTACCOUNTID',\n",
    "                                *['CUSTOMERID', 'FIXEDDEPOSITID', 'INVESTMENTACCOUNTID', 'PRINCIPALAMOUNT'])\n",
    "    mutual_sol3 = merge_dataframe(fund_investment, mutual_funds, 'INVESTMENTACCOUNTID',\n",
    "                                 *['CUSTOMERID', 'MUTUALFUNDID', 'FUNDNAME', 'FUNDTYPE', 'INVESTMENTACCOUNTID',\n",
    "                                   'INVESTMENTAMOUNT'])\n",
    "    stock_sol3 = merge_dataframe(stock_investment, stocks, 'INVESTMENTACCOUNTID',\n",
    "                                *['CUSTOMERID', 'STOCKID', 'STOCKNAME', 'INVESTMENTACCOUNTID', 'PURCHASEPRICE', 'QUANTITY'])\n",
    "    new_data = manipulations_sol3(fixed_sol3, mutual_sol3, stock_sol3, loans, customers)\n",
    "    cust_returns = returns(investment_accounts, customers)\n",
    "    tax_liability1 = tax_liability(investment_accounts)\n",
    "    return final_dataframe, final_dataframe1, final_dataframe2, fixed_top, mutual_top, stock_top, new_data, cust_returns, tax_liability1\n",
    "if __name__ == '__main__':\n",
    "    final_dataframe, final_dataframe1, final_dataframe2, fixed, mutual, stock, new_data, cust_returns, tax_liability = main()\n",
    "    print(\"Solution 1 for both user and bank to be present in 3 columns in the form of sliders:\")\n",
    "    solution1 = pd.concat([final_dataframe, final_dataframe1, final_dataframe2], axis = 1)\n",
    "    print(solution1)\n",
    "    print(\"Solution 2 top 3 performining investment to be shown for both user and bank in the form of 3 cards, 3 rows segmenting each type:\")\n",
    "    solution2 = pd.concat([fixed, mutual, stock], axis = 1)\n",
    "    print(solution2)\n",
    "    print('''Solution 3 (view only for banks) top 10 customers net woth in pie chart and products in 3 seaborn charts,\n",
    "          download button to download and view the entire dataframe''')\n",
    "    print(new_data)\n",
    "    print('''Solution 4 (view only for bank, convert this dataframe to pandas stylers and just write it on streamlit using\n",
    "    st.write(cust_returns))''')\n",
    "    print(cust_returns)\n",
    "    print('''Solution 5 (view only for customer, link customer id with login  and show gains and tax liability as one/two\n",
    "          cards on top of the dashboard)''')\n",
    "    print(tax_liability)\n",
    "\n",
    "\n"
   ]
  },
  {
   "cell_type": "code",
   "execution_count": 31,
   "metadata": {},
   "outputs": [],
   "source": [
    "cust_returns = returns(investment_accounts, customers)"
   ]
  },
  {
   "cell_type": "code",
   "execution_count": 34,
   "metadata": {},
   "outputs": [],
   "source": [
    "df = investment_accounts.copy()\n",
    "df = df.rename(columns = {'RETURNS' : 'CAGR'})\n",
    "# Add additional columns for holding period, gains, and tax liabilit"
   ]
  },
  {
   "cell_type": "code",
   "execution_count": 36,
   "metadata": {},
   "outputs": [],
   "source": [
    "df['HoldingPeriod'] = (pd.to_datetime(df['INVESTMENTENDDATE']) - pd.to_datetime(df['INVESTMENTSTARTDATE'])).dt.days / 365\n"
   ]
  },
  {
   "cell_type": "code",
   "execution_count": 37,
   "metadata": {},
   "outputs": [
    {
     "ename": "TypeError",
     "evalue": "can't multiply sequence by non-int of type 'float'",
     "output_type": "error",
     "traceback": [
      "\u001b[1;31m---------------------------------------------------------------------------\u001b[0m",
      "\u001b[1;31mTypeError\u001b[0m                                 Traceback (most recent call last)",
      "File \u001b[1;32mc:\\Users\\ADMIN\\AppData\\Local\\Programs\\Python\\Python39\\lib\\site-packages\\pandas\\core\\ops\\array_ops.py:165\u001b[0m, in \u001b[0;36m_na_arithmetic_op\u001b[1;34m(left, right, op, is_cmp)\u001b[0m\n\u001b[0;32m    164\u001b[0m \u001b[39mtry\u001b[39;00m:\n\u001b[1;32m--> 165\u001b[0m     result \u001b[39m=\u001b[39m func(left, right)\n\u001b[0;32m    166\u001b[0m \u001b[39mexcept\u001b[39;00m \u001b[39mTypeError\u001b[39;00m:\n",
      "File \u001b[1;32mc:\\Users\\ADMIN\\AppData\\Local\\Programs\\Python\\Python39\\lib\\site-packages\\pandas\\core\\computation\\expressions.py:241\u001b[0m, in \u001b[0;36mevaluate\u001b[1;34m(op, a, b, use_numexpr)\u001b[0m\n\u001b[0;32m    239\u001b[0m     \u001b[39mif\u001b[39;00m use_numexpr:\n\u001b[0;32m    240\u001b[0m         \u001b[39m# error: \"None\" not callable\u001b[39;00m\n\u001b[1;32m--> 241\u001b[0m         \u001b[39mreturn\u001b[39;00m _evaluate(op, op_str, a, b)  \u001b[39m# type: ignore[misc]\u001b[39;00m\n\u001b[0;32m    242\u001b[0m \u001b[39mreturn\u001b[39;00m _evaluate_standard(op, op_str, a, b)\n",
      "File \u001b[1;32mc:\\Users\\ADMIN\\AppData\\Local\\Programs\\Python\\Python39\\lib\\site-packages\\pandas\\core\\computation\\expressions.py:129\u001b[0m, in \u001b[0;36m_evaluate_numexpr\u001b[1;34m(op, op_str, a, b)\u001b[0m\n\u001b[0;32m    128\u001b[0m \u001b[39mif\u001b[39;00m result \u001b[39mis\u001b[39;00m \u001b[39mNone\u001b[39;00m:\n\u001b[1;32m--> 129\u001b[0m     result \u001b[39m=\u001b[39m _evaluate_standard(op, op_str, a, b)\n\u001b[0;32m    131\u001b[0m \u001b[39mreturn\u001b[39;00m result\n",
      "File \u001b[1;32mc:\\Users\\ADMIN\\AppData\\Local\\Programs\\Python\\Python39\\lib\\site-packages\\pandas\\core\\computation\\expressions.py:70\u001b[0m, in \u001b[0;36m_evaluate_standard\u001b[1;34m(op, op_str, a, b)\u001b[0m\n\u001b[0;32m     69\u001b[0m     _store_test_result(\u001b[39mFalse\u001b[39;00m)\n\u001b[1;32m---> 70\u001b[0m \u001b[39mreturn\u001b[39;00m op(a, b)\n",
      "\u001b[1;31mTypeError\u001b[0m: can't multiply sequence by non-int of type 'float'",
      "\nDuring handling of the above exception, another exception occurred:\n",
      "\u001b[1;31mTypeError\u001b[0m                                 Traceback (most recent call last)",
      "\u001b[1;32mh:\\hackathon\\growthgenie\\hack-code\\test.ipynb Cell 12\u001b[0m line \u001b[0;36m1\n\u001b[1;32m----> <a href='vscode-notebook-cell:/h%3A/hackathon/growthgenie/hack-code/test.ipynb#X41sZmlsZQ%3D%3D?line=0'>1</a>\u001b[0m df[\u001b[39m'\u001b[39m\u001b[39mGains\u001b[39m\u001b[39m'\u001b[39m] \u001b[39m=\u001b[39m df[\u001b[39m'\u001b[39;49m\u001b[39mINVESTMENTPORTFOLIO\u001b[39;49m\u001b[39m'\u001b[39;49m] \u001b[39m*\u001b[39;49m (df[\u001b[39m'\u001b[39;49m\u001b[39mCAGR\u001b[39;49m\u001b[39m'\u001b[39;49m] \u001b[39m/\u001b[39;49m \u001b[39m100\u001b[39;49m)\n",
      "File \u001b[1;32mc:\\Users\\ADMIN\\AppData\\Local\\Programs\\Python\\Python39\\lib\\site-packages\\pandas\\core\\ops\\common.py:72\u001b[0m, in \u001b[0;36m_unpack_zerodim_and_defer.<locals>.new_method\u001b[1;34m(self, other)\u001b[0m\n\u001b[0;32m     68\u001b[0m             \u001b[39mreturn\u001b[39;00m \u001b[39mNotImplemented\u001b[39m\n\u001b[0;32m     70\u001b[0m other \u001b[39m=\u001b[39m item_from_zerodim(other)\n\u001b[1;32m---> 72\u001b[0m \u001b[39mreturn\u001b[39;00m method(\u001b[39mself\u001b[39;49m, other)\n",
      "File \u001b[1;32mc:\\Users\\ADMIN\\AppData\\Local\\Programs\\Python\\Python39\\lib\\site-packages\\pandas\\core\\arraylike.py:118\u001b[0m, in \u001b[0;36mOpsMixin.__mul__\u001b[1;34m(self, other)\u001b[0m\n\u001b[0;32m    116\u001b[0m \u001b[39m@unpack_zerodim_and_defer\u001b[39m(\u001b[39m\"\u001b[39m\u001b[39m__mul__\u001b[39m\u001b[39m\"\u001b[39m)\n\u001b[0;32m    117\u001b[0m \u001b[39mdef\u001b[39;00m \u001b[39m__mul__\u001b[39m(\u001b[39mself\u001b[39m, other):\n\u001b[1;32m--> 118\u001b[0m     \u001b[39mreturn\u001b[39;00m \u001b[39mself\u001b[39;49m\u001b[39m.\u001b[39;49m_arith_method(other, operator\u001b[39m.\u001b[39;49mmul)\n",
      "File \u001b[1;32mc:\\Users\\ADMIN\\AppData\\Local\\Programs\\Python\\Python39\\lib\\site-packages\\pandas\\core\\series.py:6259\u001b[0m, in \u001b[0;36mSeries._arith_method\u001b[1;34m(self, other, op)\u001b[0m\n\u001b[0;32m   6257\u001b[0m \u001b[39mdef\u001b[39;00m \u001b[39m_arith_method\u001b[39m(\u001b[39mself\u001b[39m, other, op):\n\u001b[0;32m   6258\u001b[0m     \u001b[39mself\u001b[39m, other \u001b[39m=\u001b[39m ops\u001b[39m.\u001b[39malign_method_SERIES(\u001b[39mself\u001b[39m, other)\n\u001b[1;32m-> 6259\u001b[0m     \u001b[39mreturn\u001b[39;00m base\u001b[39m.\u001b[39;49mIndexOpsMixin\u001b[39m.\u001b[39;49m_arith_method(\u001b[39mself\u001b[39;49m, other, op)\n",
      "File \u001b[1;32mc:\\Users\\ADMIN\\AppData\\Local\\Programs\\Python\\Python39\\lib\\site-packages\\pandas\\core\\base.py:1325\u001b[0m, in \u001b[0;36mIndexOpsMixin._arith_method\u001b[1;34m(self, other, op)\u001b[0m\n\u001b[0;32m   1322\u001b[0m rvalues \u001b[39m=\u001b[39m ensure_wrapped_if_datetimelike(rvalues)\n\u001b[0;32m   1324\u001b[0m \u001b[39mwith\u001b[39;00m np\u001b[39m.\u001b[39merrstate(\u001b[39mall\u001b[39m\u001b[39m=\u001b[39m\u001b[39m\"\u001b[39m\u001b[39mignore\u001b[39m\u001b[39m\"\u001b[39m):\n\u001b[1;32m-> 1325\u001b[0m     result \u001b[39m=\u001b[39m ops\u001b[39m.\u001b[39;49marithmetic_op(lvalues, rvalues, op)\n\u001b[0;32m   1327\u001b[0m \u001b[39mreturn\u001b[39;00m \u001b[39mself\u001b[39m\u001b[39m.\u001b[39m_construct_result(result, name\u001b[39m=\u001b[39mres_name)\n",
      "File \u001b[1;32mc:\\Users\\ADMIN\\AppData\\Local\\Programs\\Python\\Python39\\lib\\site-packages\\pandas\\core\\ops\\array_ops.py:226\u001b[0m, in \u001b[0;36marithmetic_op\u001b[1;34m(left, right, op)\u001b[0m\n\u001b[0;32m    222\u001b[0m     _bool_arith_check(op, left, right)\n\u001b[0;32m    224\u001b[0m     \u001b[39m# error: Argument 1 to \"_na_arithmetic_op\" has incompatible type\u001b[39;00m\n\u001b[0;32m    225\u001b[0m     \u001b[39m# \"Union[ExtensionArray, ndarray[Any, Any]]\"; expected \"ndarray[Any, Any]\"\u001b[39;00m\n\u001b[1;32m--> 226\u001b[0m     res_values \u001b[39m=\u001b[39m _na_arithmetic_op(left, right, op)  \u001b[39m# type: ignore[arg-type]\u001b[39;00m\n\u001b[0;32m    228\u001b[0m \u001b[39mreturn\u001b[39;00m res_values\n",
      "File \u001b[1;32mc:\\Users\\ADMIN\\AppData\\Local\\Programs\\Python\\Python39\\lib\\site-packages\\pandas\\core\\ops\\array_ops.py:172\u001b[0m, in \u001b[0;36m_na_arithmetic_op\u001b[1;34m(left, right, op, is_cmp)\u001b[0m\n\u001b[0;32m    166\u001b[0m \u001b[39mexcept\u001b[39;00m \u001b[39mTypeError\u001b[39;00m:\n\u001b[0;32m    167\u001b[0m     \u001b[39mif\u001b[39;00m \u001b[39mnot\u001b[39;00m is_cmp \u001b[39mand\u001b[39;00m (is_object_dtype(left\u001b[39m.\u001b[39mdtype) \u001b[39mor\u001b[39;00m is_object_dtype(right)):\n\u001b[0;32m    168\u001b[0m         \u001b[39m# For object dtype, fallback to a masked operation (only operating\u001b[39;00m\n\u001b[0;32m    169\u001b[0m         \u001b[39m#  on the non-missing values)\u001b[39;00m\n\u001b[0;32m    170\u001b[0m         \u001b[39m# Don't do this for comparisons, as that will handle complex numbers\u001b[39;00m\n\u001b[0;32m    171\u001b[0m         \u001b[39m#  incorrectly, see GH#32047\u001b[39;00m\n\u001b[1;32m--> 172\u001b[0m         result \u001b[39m=\u001b[39m _masked_arith_op(left, right, op)\n\u001b[0;32m    173\u001b[0m     \u001b[39melse\u001b[39;00m:\n\u001b[0;32m    174\u001b[0m         \u001b[39mraise\u001b[39;00m\n",
      "File \u001b[1;32mc:\\Users\\ADMIN\\AppData\\Local\\Programs\\Python\\Python39\\lib\\site-packages\\pandas\\core\\ops\\array_ops.py:110\u001b[0m, in \u001b[0;36m_masked_arith_op\u001b[1;34m(x, y, op)\u001b[0m\n\u001b[0;32m    108\u001b[0m     \u001b[39m# See GH#5284, GH#5035, GH#19448 for historical reference\u001b[39;00m\n\u001b[0;32m    109\u001b[0m     \u001b[39mif\u001b[39;00m mask\u001b[39m.\u001b[39many():\n\u001b[1;32m--> 110\u001b[0m         result[mask] \u001b[39m=\u001b[39m op(xrav[mask], yrav[mask])\n\u001b[0;32m    112\u001b[0m \u001b[39melse\u001b[39;00m:\n\u001b[0;32m    113\u001b[0m     \u001b[39mif\u001b[39;00m \u001b[39mnot\u001b[39;00m is_scalar(y):\n",
      "\u001b[1;31mTypeError\u001b[0m: can't multiply sequence by non-int of type 'float'"
     ]
    }
   ],
   "source": [
    "df['Gains'] = df['INVESTMENTPORTFOLIO'] * (df['CAGR'] / 100)"
   ]
  },
  {
   "cell_type": "code",
   "execution_count": null,
   "metadata": {},
   "outputs": [],
   "source": []
  }
 ],
 "metadata": {
  "kernelspec": {
   "display_name": "Python 3",
   "language": "python",
   "name": "python3"
  },
  "language_info": {
   "codemirror_mode": {
    "name": "ipython",
    "version": 3
   },
   "file_extension": ".py",
   "mimetype": "text/x-python",
   "name": "python",
   "nbconvert_exporter": "python",
   "pygments_lexer": "ipython3",
   "version": "3.9.13"
  }
 },
 "nbformat": 4,
 "nbformat_minor": 2
}
