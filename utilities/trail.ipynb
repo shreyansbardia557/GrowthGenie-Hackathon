{
 "cells": [
  {
   "cell_type": "code",
   "execution_count": 1,
   "metadata": {},
   "outputs": [],
   "source": [
    "import pandas as pd"
   ]
  },
  {
   "cell_type": "code",
   "execution_count": 2,
   "metadata": {},
   "outputs": [],
   "source": [
    "from CustomerAnalysis import CustomerAnalysis"
   ]
  },
  {
   "cell_type": "code",
   "execution_count": 3,
   "metadata": {},
   "outputs": [],
   "source": [
    "import os\n",
    "os.chdir(\"../dataset/\")"
   ]
  },
  {
   "cell_type": "code",
   "execution_count": 4,
   "metadata": {},
   "outputs": [],
   "source": [
    "user = CustomerAnalysis(1001)"
   ]
  },
  {
   "cell_type": "code",
   "execution_count": 5,
   "metadata": {},
   "outputs": [
    {
     "data": {
      "text/html": [
       "<div>\n",
       "<style scoped>\n",
       "    .dataframe tbody tr th:only-of-type {\n",
       "        vertical-align: middle;\n",
       "    }\n",
       "\n",
       "    .dataframe tbody tr th {\n",
       "        vertical-align: top;\n",
       "    }\n",
       "\n",
       "    .dataframe thead th {\n",
       "        text-align: right;\n",
       "    }\n",
       "</style>\n",
       "<table border=\"1\" class=\"dataframe\">\n",
       "  <thead>\n",
       "    <tr style=\"text-align: right;\">\n",
       "      <th></th>\n",
       "      <th>ACCOUNTID</th>\n",
       "      <th>CUSTOMERID</th>\n",
       "      <th>ACCOUNTTYPE</th>\n",
       "      <th>ACCOUNTBALANCE</th>\n",
       "      <th>ACCOUNTSTATUS</th>\n",
       "      <th>INTERESTRATE</th>\n",
       "      <th>OPENINGDATE</th>\n",
       "      <th>LASTTRANSACTIONDATE</th>\n",
       "    </tr>\n",
       "  </thead>\n",
       "  <tbody>\n",
       "    <tr>\n",
       "      <th>0</th>\n",
       "      <td>DKOF43820693680285</td>\n",
       "      <td>1516</td>\n",
       "      <td>Money market account</td>\n",
       "      <td>3546445</td>\n",
       "      <td>Active</td>\n",
       "      <td>8.71</td>\n",
       "      <td>2018-07-19 01:12:07</td>\n",
       "      <td>2022-08-06 07:04:28</td>\n",
       "    </tr>\n",
       "    <tr>\n",
       "      <th>1</th>\n",
       "      <td>GTNT04919496383691</td>\n",
       "      <td>1767</td>\n",
       "      <td>Savings account</td>\n",
       "      <td>912573</td>\n",
       "      <td>Frozen</td>\n",
       "      <td>9.52</td>\n",
       "      <td>2022-03-17 08:34:18</td>\n",
       "      <td>2022-03-04 08:34:18</td>\n",
       "    </tr>\n",
       "    <tr>\n",
       "      <th>2</th>\n",
       "      <td>RYBJ19802873524569</td>\n",
       "      <td>1284</td>\n",
       "      <td>Savings account</td>\n",
       "      <td>3920099</td>\n",
       "      <td>Closed</td>\n",
       "      <td>9.20</td>\n",
       "      <td>2009-05-26 18:40:32</td>\n",
       "      <td>2022-03-11 06:23:04</td>\n",
       "    </tr>\n",
       "    <tr>\n",
       "      <th>3</th>\n",
       "      <td>CXFV01522434911094</td>\n",
       "      <td>1805</td>\n",
       "      <td>Money market account</td>\n",
       "      <td>554606</td>\n",
       "      <td>Closed</td>\n",
       "      <td>5.41</td>\n",
       "      <td>2014-06-07 17:06:46</td>\n",
       "      <td>2022-01-25 13:06:49</td>\n",
       "    </tr>\n",
       "    <tr>\n",
       "      <th>4</th>\n",
       "      <td>GNHM80852530787749</td>\n",
       "      <td>1572</td>\n",
       "      <td>Checking account</td>\n",
       "      <td>2791932</td>\n",
       "      <td>Active</td>\n",
       "      <td>5.55</td>\n",
       "      <td>2021-08-19 22:00:42</td>\n",
       "      <td>2023-06-20 09:43:27</td>\n",
       "    </tr>\n",
       "  </tbody>\n",
       "</table>\n",
       "</div>"
      ],
      "text/plain": [
       "            ACCOUNTID  CUSTOMERID           ACCOUNTTYPE  ACCOUNTBALANCE  \\\n",
       "0  DKOF43820693680285        1516  Money market account         3546445   \n",
       "1  GTNT04919496383691        1767       Savings account          912573   \n",
       "2  RYBJ19802873524569        1284       Savings account         3920099   \n",
       "3  CXFV01522434911094        1805  Money market account          554606   \n",
       "4  GNHM80852530787749        1572      Checking account         2791932   \n",
       "\n",
       "  ACCOUNTSTATUS  INTERESTRATE         OPENINGDATE LASTTRANSACTIONDATE  \n",
       "0        Active          8.71 2018-07-19 01:12:07 2022-08-06 07:04:28  \n",
       "1        Frozen          9.52 2022-03-17 08:34:18 2022-03-04 08:34:18  \n",
       "2        Closed          9.20 2009-05-26 18:40:32 2022-03-11 06:23:04  \n",
       "3        Closed          5.41 2014-06-07 17:06:46 2022-01-25 13:06:49  \n",
       "4        Active          5.55 2021-08-19 22:00:42 2023-06-20 09:43:27  "
      ]
     },
     "execution_count": 5,
     "metadata": {},
     "output_type": "execute_result"
    }
   ],
   "source": [
    "user.account_data.head()"
   ]
  },
  {
   "cell_type": "code",
   "execution_count": null,
   "metadata": {},
   "outputs": [],
   "source": []
  }
 ],
 "metadata": {
  "kernelspec": {
   "display_name": "Python 3",
   "language": "python",
   "name": "python3"
  },
  "language_info": {
   "codemirror_mode": {
    "name": "ipython",
    "version": 3
   },
   "file_extension": ".py",
   "mimetype": "text/x-python",
   "name": "python",
   "nbconvert_exporter": "python",
   "pygments_lexer": "ipython3",
   "version": "3.9.13"
  }
 },
 "nbformat": 4,
 "nbformat_minor": 2
}
